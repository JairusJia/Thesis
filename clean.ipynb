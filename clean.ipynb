{
 "cells": [
  {
   "cell_type": "code",
   "execution_count": 9,
   "metadata": {},
   "outputs": [],
   "source": [
    "import json\n",
    "from datetime import datetime\n",
    "import re\n",
    "import matplotlib.pyplot as plt\n",
    "from collections import Counter"
   ]
  },
  {
   "cell_type": "markdown",
   "metadata": {},
   "source": [
    "Sort"
   ]
  },
  {
   "cell_type": "code",
   "execution_count": 10,
   "metadata": {},
   "outputs": [],
   "source": [
    "with open(\"guba_posts.json\", \"r\", encoding=\"utf-8\") as file:\n",
    "    data = json.load(file)"
   ]
  },
  {
   "cell_type": "code",
   "execution_count": 11,
   "metadata": {},
   "outputs": [],
   "source": [
    "cleaned_data = {}\n",
    "for key, value in data.items():\n",
    "    clean_key = re.sub(r\"修改于\", \"\", key).strip()  \n",
    "    cleaned_data[clean_key] = value\n"
   ]
  },
  {
   "cell_type": "code",
   "execution_count": 12,
   "metadata": {},
   "outputs": [],
   "source": [
    "sorted_data = dict(sorted(cleaned_data.items(), key=lambda x: datetime.strptime(x[0], \"%Y-%m-%d %H:%M:%S\"), reverse=True))"
   ]
  },
  {
   "cell_type": "code",
   "execution_count": 13,
   "metadata": {},
   "outputs": [],
   "source": [
    "with open(\"sorted_guba_posts.json\", \"w\", encoding=\"utf-8\") as file:\n",
    "    json.dump(sorted_data, file, ensure_ascii=False, indent=4)"
   ]
  },
  {
   "cell_type": "markdown",
   "metadata": {},
   "source": [
    "Stas"
   ]
  },
  {
   "cell_type": "code",
   "execution_count": 14,
   "metadata": {},
   "outputs": [],
   "source": [
    "date_counts = Counter()\n",
    "for key in sorted_data.keys():\n",
    "    date_str = key.split()[0]  \n",
    "    date_counts[date_str] += 1"
   ]
  },
  {
   "cell_type": "code",
   "execution_count": 15,
   "metadata": {},
   "outputs": [
    {
     "data": {
      "text/plain": [
       "{'2025-01-17': 273,\n",
       " '2025-01-16': 3488,\n",
       " '2025-01-15': 3555,\n",
       " '2025-01-14': 4724,\n",
       " '2025-01-13': 5173,\n",
       " '2025-01-12': 678,\n",
       " '2025-01-11': 882,\n",
       " '2025-01-10': 6747,\n",
       " '2025-01-09': 3123,\n",
       " '2025-01-08': 6834,\n",
       " '2025-01-07': 4617,\n",
       " '2025-01-06': 6971,\n",
       " '2025-01-05': 830,\n",
       " '2025-01-04': 1027,\n",
       " '2025-01-03': 9164,\n",
       " '2025-01-02': 9497,\n",
       " '2025-01-01': 759,\n",
       " '2024-12-31': 7397,\n",
       " '2024-12-30': 3513,\n",
       " '2024-12-29': 315,\n",
       " '2024-12-28': 342,\n",
       " '2024-12-27': 2733,\n",
       " '2024-12-26': 2613,\n",
       " '2024-12-25': 6090,\n",
       " '2024-12-24': 3587,\n",
       " '2024-12-23': 6469,\n",
       " '2024-12-22': 260,\n",
       " '2024-12-21': 263,\n",
       " '2024-12-20': 2408,\n",
       " '2024-12-19': 3811,\n",
       " '2024-12-18': 3160,\n",
       " '2024-12-17': 6182,\n",
       " '2024-12-16': 3224,\n",
       " '2024-12-15': 424,\n",
       " '2024-12-14': 444,\n",
       " '2024-12-13': 3494,\n",
       " '2024-12-12': 2356,\n",
       " '2024-12-11': 2501,\n",
       " '2024-12-10': 7581,\n",
       " '2024-12-09': 3955,\n",
       " '2024-12-08': 350,\n",
       " '2024-12-07': 433,\n",
       " '2024-12-06': 2711,\n",
       " '2024-12-05': 2467,\n",
       " '2024-12-04': 3175,\n",
       " '2024-12-03': 2919,\n",
       " '2024-12-02': 2094,\n",
       " '2024-12-01': 550,\n",
       " '2024-11-30': 732,\n",
       " '2024-11-29': 3575,\n",
       " '2024-11-28': 3185,\n",
       " '2024-11-27': 4313,\n",
       " '2024-11-26': 4500,\n",
       " '2024-11-25': 4930,\n",
       " '2024-11-24': 658,\n",
       " '2024-11-23': 1094,\n",
       " '2024-11-22': 7981,\n",
       " '2024-11-21': 2558,\n",
       " '2024-11-20': 2306,\n",
       " '2024-11-19': 5529,\n",
       " '2024-11-18': 1740,\n",
       " '2024-11-17': 24,\n",
       " '2024-11-16': 23,\n",
       " '2024-11-15': 75,\n",
       " '2024-11-14': 50,\n",
       " '2024-11-13': 25,\n",
       " '2024-11-12': 23}"
      ]
     },
     "execution_count": 15,
     "metadata": {},
     "output_type": "execute_result"
    }
   ],
   "source": [
    "filtered_sorted_date_counts = dict(sorted(\n",
    "    {date: count for date, count in date_counts.items() if count > 20}.items(),\n",
    "    key=lambda x: x[0], reverse= True\n",
    "))\n",
    "filtered_sorted_date_counts"
   ]
  }
 ],
 "metadata": {
  "kernelspec": {
   "display_name": "final",
   "language": "python",
   "name": "python3"
  },
  "language_info": {
   "codemirror_mode": {
    "name": "ipython",
    "version": 3
   },
   "file_extension": ".py",
   "mimetype": "text/x-python",
   "name": "python",
   "nbconvert_exporter": "python",
   "pygments_lexer": "ipython3",
   "version": "3.13.1"
  }
 },
 "nbformat": 4,
 "nbformat_minor": 2
}
